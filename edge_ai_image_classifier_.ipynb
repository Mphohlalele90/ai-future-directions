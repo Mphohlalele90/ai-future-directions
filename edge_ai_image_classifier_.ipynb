{
  "nbformat": 4,
  "nbformat_minor": 0,
  "metadata": {
    "colab": {
      "provenance": [],
      "authorship_tag": "ABX9TyO/N4COomC+99gV0JR0smwW",
      "include_colab_link": true
    },
    "kernelspec": {
      "name": "python3",
      "display_name": "Python 3"
    },
    "language_info": {
      "name": "python"
    }
  },
  "cells": [
    {
      "cell_type": "markdown",
      "metadata": {
        "id": "view-in-github",
        "colab_type": "text"
      },
      "source": [
        "<a href=\"https://colab.research.google.com/github/Mphohlalele90/ai-future-directions/blob/main/edge_ai_image_classifier_.ipynb\" target=\"_parent\"><img src=\"https://colab.research.google.com/assets/colab-badge.svg\" alt=\"Open In Colab\"/></a>"
      ]
    },
    {
      "cell_type": "markdown",
      "source": [
        "AI Future Directions – PLP Assignment"
      ],
      "metadata": {
        "id": "B65TT_FrmJKu"
      }
    },
    {
      "cell_type": "markdown",
      "source": [
        "PART 1: THEORETICAL ANALYSIS"
      ],
      "metadata": {
        "id": "gOrc258EnXfE"
      }
    },
    {
      "cell_type": "markdown",
      "source": [],
      "metadata": {
        "id": "kWqRJX8EndDy"
      }
    },
    {
      "cell_type": "markdown",
      "source": [
        "Q1: How Edge AI Reduces Latency and Enhances Privacy\n",
        "\n",
        "Edge AI refers to running artificial intelligence models directly on edge devices (e.g., smartphones, drones, sensors) instead of relying on cloud-based systems.\n",
        "\n",
        "**Latency**: In Edge AI, data is processed locally, which reduces the time delay caused by sending data to the cloud and back. This is critical in real-time systems like autonomous drones or self-driving cars.\n",
        "\n",
        "**Privacy**: Since data remains on the device, it minimizes the risk of exposure or interception during data transfer. This is especially valuable in healthcare or surveillance scenarios.\n",
        "\n",
        "**Example**: Autonomous drones use Edge AI to detect and avoid obstacles in real time. Delays from cloud-based processing would result in crashes, making Edge AI a necessity for safety."
      ],
      "metadata": {
        "id": "Xrc3LpG-nkxK"
      }
    },
    {
      "cell_type": "markdown",
      "source": [
        "Q2: Compare Quantum AI and Classical AI in Optimization\n",
        "\n",
        "**Classical AI** solves optimization problems using deterministic algorithms like gradient descent or genetic algorithms. These methods work well but can struggle with large, complex datasets and multiple variables.\n",
        "\n",
        "**Quantum AI**, however, uses quantum bits (qubits) which can represent multiple states simultaneously through superposition. This allows exploration of many potential solutions at once, drastically accelerating optimization.\n",
        "\n",
        "**Industries that benefit from Quantum AI**:\n",
        "- **Pharmaceuticals**: for drug discovery simulations.\n",
        "- **Finance**: for high-speed portfolio optimization.\n",
        "- **Logistics**: for efficient route planning and resource allocation.\n",
        "\n",
        "Quantum AI promises faster solutions for problems that are currently too complex or time-consuming for classical computing."
      ],
      "metadata": {
        "id": "NVRZUVLEnrPU"
      }
    },
    {
      "cell_type": "markdown",
      "source": [
        "Q3: Societal Impact of Human-AI Collaboration in Healthcare\n",
        "\n",
        "Human-AI collaboration in healthcare refers to the partnership between medical professionals and intelligent systems.\n",
        "\n",
        "**Radiologists** can use AI to pre-screen images and highlight abnormalities, reducing diagnostic time and improving accuracy. AI can detect patterns in medical imaging that are too subtle for the human eye.\n",
        "\n",
        "**Nurses** benefit from AI-powered monitoring systems that predict patient deterioration based on vitals, allowing for proactive care.\n",
        "\n",
        "**Impact**:\n",
        "- Increases efficiency and accuracy.\n",
        "- Reduces human error.\n",
        "- Frees up time for professionals to focus on patient care and emotional support.\n",
        "\n",
        "However, ethical concerns arise regarding overreliance on AI and job displacement. Responsible integration is key."
      ],
      "metadata": {
        "id": "3TPX_EDqoEqv"
      }
    },
    {
      "cell_type": "markdown",
      "source": [
        "Case Study: AI in Smart Cities – Traffic Management"
      ],
      "metadata": {
        "id": "B1ZaQdBIoWU5"
      }
    },
    {
      "cell_type": "markdown",
      "source": [
        "**How AI + IoT Improves Urban Sustainability:**\n",
        "\n",
        "Integrating AI with IoT enables smarter traffic systems through real-time data analysis. AI can process inputs from IoT sensors (e.g., traffic cameras, vehicle counters) to:\n",
        "- Optimize traffic signal timing.\n",
        "- Reduce congestion and vehicle emissions.\n",
        "- Predict peak traffic hours and reroute vehicles.\n",
        "\n",
        "**Two Challenges:**\n",
        "1. **Data Security** – IoT devices can be vulnerable to hacking, which can disrupt critical systems or leak private location data.\n",
        "2. **Infrastructure Cost** – Installing and maintaining smart traffic systems is expensive, especially in developing countries.\n"
      ],
      "metadata": {
        "id": "sxn7TWSioZWj"
      }
    },
    {
      "cell_type": "markdown",
      "source": [
        "PART 2: PRACTICAL IMPLEMENTATION"
      ],
      "metadata": {
        "id": "-fAMiz91ohHq"
      }
    },
    {
      "cell_type": "code",
      "execution_count": 1,
      "metadata": {
        "colab": {
          "base_uri": "https://localhost:8080/"
        },
        "id": "j3951svvh1gJ",
        "outputId": "31eefff1-99ee-4e32-c242-f03433600411"
      },
      "outputs": [
        {
          "output_type": "stream",
          "name": "stdout",
          "text": [
            "Downloading data from https://storage.googleapis.com/download.tensorflow.org/example_images/flower_photos.tgz\n",
            "\u001b[1m228813984/228813984\u001b[0m \u001b[32m━━━━━━━━━━━━━━━━━━━━\u001b[0m\u001b[37m\u001b[0m \u001b[1m1s\u001b[0m 0us/step\n",
            "Found 3670 files belonging to 1 classes.\n",
            "Using 2936 files for training.\n",
            "Found 3670 files belonging to 1 classes.\n",
            "Using 734 files for validation.\n"
          ]
        },
        {
          "output_type": "stream",
          "name": "stderr",
          "text": [
            "/usr/local/lib/python3.11/dist-packages/keras/src/layers/convolutional/base_conv.py:107: UserWarning: Do not pass an `input_shape`/`input_dim` argument to a layer. When using Sequential models, prefer using an `Input(shape)` object as the first layer in the model instead.\n",
            "  super().__init__(activity_regularizer=activity_regularizer, **kwargs)\n"
          ]
        },
        {
          "output_type": "stream",
          "name": "stdout",
          "text": [
            "Epoch 1/3\n",
            "\u001b[1m92/92\u001b[0m \u001b[32m━━━━━━━━━━━━━━━━━━━━\u001b[0m\u001b[37m\u001b[0m \u001b[1m108s\u001b[0m 1s/step - accuracy: 0.9450 - loss: 0.0905 - val_accuracy: 1.0000 - val_loss: 0.0000e+00\n",
            "Epoch 2/3\n",
            "\u001b[1m92/92\u001b[0m \u001b[32m━━━━━━━━━━━━━━━━━━━━\u001b[0m\u001b[37m\u001b[0m \u001b[1m97s\u001b[0m 1s/step - accuracy: 1.0000 - loss: 0.0000e+00 - val_accuracy: 1.0000 - val_loss: 0.0000e+00\n",
            "Epoch 3/3\n",
            "\u001b[1m92/92\u001b[0m \u001b[32m━━━━━━━━━━━━━━━━━━━━\u001b[0m\u001b[37m\u001b[0m \u001b[1m146s\u001b[0m 1s/step - accuracy: 1.0000 - loss: 0.0000e+00 - val_accuracy: 1.0000 - val_loss: 0.0000e+00\n"
          ]
        }
      ],
      "source": [
        "# Edge AI Image Classifier - PLP Assignment\n",
        "import tensorflow as tf\n",
        "from tensorflow import keras\n",
        "import numpy as np\n",
        "import matplotlib.pyplot as plt\n",
        "\n",
        "# Load example dataset\n",
        "dataset = keras.utils.get_file(\n",
        "    origin=\"https://storage.googleapis.com/download.tensorflow.org/example_images/flower_photos.tgz\",\n",
        "    fname=\"flower_photos\", extract=True)\n",
        "\n",
        "import pathlib\n",
        "data_dir = pathlib.Path(dataset)\n",
        "\n",
        "# Load data\n",
        "batch_size = 32\n",
        "img_height = 180\n",
        "img_width = 180\n",
        "\n",
        "train_ds = tf.keras.preprocessing.image_dataset_from_directory(\n",
        "    data_dir,\n",
        "    validation_split=0.2,\n",
        "    subset=\"training\",\n",
        "    seed=123,\n",
        "    image_size=(img_height, img_width),\n",
        "    batch_size=batch_size)\n",
        "\n",
        "val_ds = tf.keras.preprocessing.image_dataset_from_directory(\n",
        "    data_dir,\n",
        "    validation_split=0.2,\n",
        "    subset=\"validation\",\n",
        "    seed=123,\n",
        "    image_size=(img_height, img_width),\n",
        "    batch_size=batch_size)\n",
        "\n",
        "# Normalize\n",
        "normalization_layer = tf.keras.layers.Rescaling(1./255)\n",
        "AUTOTUNE = tf.data.AUTOTUNE\n",
        "train_ds = train_ds.map(lambda x, y: (normalization_layer(x), y)).cache().prefetch(buffer_size=AUTOTUNE)\n",
        "val_ds = val_ds.map(lambda x, y: (normalization_layer(x), y)).cache().prefetch(buffer_size=AUTOTUNE)\n",
        "\n",
        "# Build the model\n",
        "model = tf.keras.Sequential([\n",
        "    tf.keras.layers.Conv2D(16, 3, padding='same', activation='relu', input_shape=(180, 180, 3)),\n",
        "    tf.keras.layers.MaxPooling2D(),\n",
        "    tf.keras.layers.Conv2D(32, 3, padding='same', activation='relu'),\n",
        "    tf.keras.layers.MaxPooling2D(),\n",
        "    tf.keras.layers.Flatten(),\n",
        "    tf.keras.layers.Dense(128, activation='relu'),\n",
        "    tf.keras.layers.Dense(5)\n",
        "])\n",
        "\n",
        "model.compile(optimizer='adam',\n",
        "              loss=tf.keras.losses.SparseCategoricalCrossentropy(from_logits=True),\n",
        "              metrics=['accuracy'])\n",
        "\n",
        "# Train the model\n",
        "history = model.fit(train_ds, validation_data=val_ds, epochs=3)"
      ]
    },
    {
      "cell_type": "code",
      "source": [
        "# Convert to TensorFlow Lite format\n",
        "converter = tf.lite.TFLiteConverter.from_keras_model(model)\n",
        "tflite_model = converter.convert()\n",
        "\n",
        "# Save the TFLite model to file\n",
        "with open('model.tflite', 'wb') as f:\n",
        "    f.write(tflite_model)\n",
        "\n",
        "print(\" TFLite model saved successfully!\")"
      ],
      "metadata": {
        "colab": {
          "base_uri": "https://localhost:8080/"
        },
        "id": "geOqtq8mlC0e",
        "outputId": "e4d4b795-7100-4cbb-af2d-aece5f08c771"
      },
      "execution_count": 2,
      "outputs": [
        {
          "output_type": "stream",
          "name": "stdout",
          "text": [
            "Saved artifact at '/tmp/tmpwy1f90hq'. The following endpoints are available:\n",
            "\n",
            "* Endpoint 'serve'\n",
            "  args_0 (POSITIONAL_ONLY): TensorSpec(shape=(None, 180, 180, 3), dtype=tf.float32, name='keras_tensor')\n",
            "Output Type:\n",
            "  TensorSpec(shape=(None, 5), dtype=tf.float32, name=None)\n",
            "Captures:\n",
            "  134887015060048: TensorSpec(shape=(), dtype=tf.resource, name=None)\n",
            "  134887015062544: TensorSpec(shape=(), dtype=tf.resource, name=None)\n",
            "  134887015063120: TensorSpec(shape=(), dtype=tf.resource, name=None)\n",
            "  134887015060240: TensorSpec(shape=(), dtype=tf.resource, name=None)\n",
            "  134887015062352: TensorSpec(shape=(), dtype=tf.resource, name=None)\n",
            "  134887015059280: TensorSpec(shape=(), dtype=tf.resource, name=None)\n",
            "  134887015059472: TensorSpec(shape=(), dtype=tf.resource, name=None)\n",
            "  134887015064080: TensorSpec(shape=(), dtype=tf.resource, name=None)\n",
            " TFLite model saved successfully!\n"
          ]
        }
      ]
    },
    {
      "cell_type": "markdown",
      "source": [
        "Task 2: AI-Driven IoT Concept – Smart Agriculture"
      ],
      "metadata": {
        "id": "JDIcjgBjpAOA"
      }
    },
    {
      "cell_type": "markdown",
      "source": [
        "## Smart Agriculture System with AI and IoT\n",
        "\n",
        "**Sensors Needed**:\n",
        "- Soil Moisture\n",
        "- Air Temperature\n",
        "- Humidity\n",
        "- pH Sensor\n",
        "- Sunlight Intensity\n",
        "\n",
        "**AI Model**:\n",
        "- Use LSTM or Random Forest to predict crop yields based on real-time sensor input + historical data.\n",
        "\n",
        "**How it Works**:\n",
        "1. Sensors collect environmental data.\n",
        "2. Data is sent to the edge processor or cloud.\n",
        "3. AI model analyzes patterns and forecasts yield or suggests irrigation.\n",
        "4. Farmers receive alerts or actions through a dashboard or app.\n"
      ],
      "metadata": {
        "id": "J9vwbX6epC4h"
      }
    },
    {
      "cell_type": "code",
      "source": [
        "from google.colab import files\n",
        "files.upload()"
      ],
      "metadata": {
        "id": "BrgCFyPnrLTy"
      },
      "execution_count": null,
      "outputs": []
    },
    {
      "cell_type": "code",
      "source": [
        "from IPython.display import Image\n",
        "Image('loT.png')"
      ],
      "metadata": {
        "colab": {
          "base_uri": "https://localhost:8080/",
          "height": 737
        },
        "id": "XlA1PKExrRpd",
        "outputId": "74e49879-bdd3-4b45-c6c4-d28a43054c6b"
      },
      "execution_count": 4,
      "outputs": [
        {
          "output_type": "execute_result",
          "data": {
            "image/png": "[encoded data removed]",
            "text/plain": [
              "<IPython.core.display.Image object>"
            ]
          },
          "metadata": {},
          "execution_count": 4
        }
      ]
    },
    {
      "cell_type": "markdown",
      "source": [
        "Task 3: Ethics in Personalized Medicine"
      ],
      "metadata": {
        "id": "Jg2AU6V_rpTc"
      }
    },
    {
      "cell_type": "markdown",
      "source": [
        "\n",
        "\n",
        "AI in personalized medicine uses data such as genome sequences and medical history to recommend targeted treatments. While powerful, it presents ethical concerns — especially in underrepresented populations.\n",
        "\n",
        "**Bias Risk**:\n",
        "Many AI models are trained on data from North American or European populations. This may exclude ethnic minorities from accurate prediction models, leading to misdiagnoses or ineffective treatments.\n",
        "\n",
        "**Example**:\n",
        "A model trained mostly on Caucasian patients may not detect certain cancer markers in African patients. This results in inequitable care and worsens existing health disparities.\n",
        "\n",
        "**Strategies for Fairness**:\n",
        "1. **Inclusive Datasets**: Encourage data collection across all demographics and ethnicities.\n",
        "2. **Bias Testing**: Regular audits to evaluate model performance across different groups.\n",
        "3. **Regulations**: Governments and health bodies must enforce transparency and fairness standards in clinical AI tools.\n",
        "\n",
        "Responsible AI in medicine must prioritize **equity** and **accountability** to truly improve global healthcare outcomes."
      ],
      "metadata": {
        "id": "b0bY-ZuyrunE"
      }
    },
    {
      "cell_type": "markdown",
      "source": [
        "PART 3: FUTURISTIC PROPOSAL (2030 AI Application)"
      ],
      "metadata": {
        "id": "ugJFXTrTr0nb"
      }
    },
    {
      "cell_type": "markdown",
      "source": [
        "**Problem**:\n",
        "Water shortages and poor distribution in rural and drought-prone areas.\n",
        "\n",
        "**AI Solution**:\n",
        "An AI system that uses satellite images + ground sensors to:\n",
        "- Monitor river and dam levels\n",
        "- Predict shortages\n",
        "- Recommend water redistribution or conservation actions\n",
        "\n",
        "**Workflow**:\n",
        "- **Input**: Satellite imagery, rainfall, water usage patterns\n",
        "- **Model**: LSTM + CNN for forecasting water scarcity\n",
        "- **Output**: Action plans or alerts for water authorities and farmers\n",
        "\n",
        "**Risks & Benefits**:\n",
        "- Prevents crises, improves planning, saves lives\n",
        "-  Needs privacy safeguards for local community data\n",
        "-  Requires investment in infrastructure\n",
        "\n",
        "This solution promotes sustainability, aligns with climate change goals, and ensures fair water access."
      ],
      "metadata": {
        "id": "XuMFZZaJsFKI"
      }
    }
  ]
}